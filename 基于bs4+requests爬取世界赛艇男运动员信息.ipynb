{
 "cells": [
  {
   "cell_type": "markdown",
   "metadata": {},
   "source": [
    "## 参考坤哥的简书 详见： https://www.jianshu.com/p/d2d0ff48f7d6"
   ]
  },
  {
   "cell_type": "markdown",
   "metadata": {},
   "source": [
    "## 导入相关的库"
   ]
  },
  {
   "cell_type": "code",
   "execution_count": 2,
   "metadata": {},
   "outputs": [],
   "source": [
    "from bs4 import BeautifulSoup as bs\n",
    "import requests\n"
   ]
  },
  {
   "cell_type": "code",
   "execution_count": 37,
   "metadata": {},
   "outputs": [],
   "source": [
    "resopnes=requests.get(\"http://www.worldrowing.com/events/2018-world-rowing-under-23-championships/u23-mens-eight/\")\n",
    "soup=bs(resopnes.text,\"html.parser\")"
   ]
  },
  {
   "cell_type": "code",
   "execution_count": 23,
   "metadata": {},
   "outputs": [
    {
     "data": {
      "text/plain": [
       "[<li>\n",
       " <figure class=\"listWrap\" data-odfid=\"46136\">\n",
       " <div class=\"listThumb\">\n",
       " <a href=\"/athletes/athlete/46136/wertz-brennan\">\n",
       " <img alt=\"WERTZ, Brennan\" class=\"basicShadow\" src=\"/assets/images/ml/athletes/46136.jpg\"/>\n",
       " </a>\n",
       " </div>\n",
       " <figcaption>\n",
       " <h4><a href=\"/athletes/athlete/46136/wertz-brennan\" title=\"WERTZ, Brennan\">WERTZ, Brennan</a></h4>\n",
       " <p class=\"yPadding\">\n",
       " \t\t\t\t\t\t\t\t\t\t\t\t\t\t\t\t\t\t\tPosition: Bow\n",
       " \t\t\t\t\t\t\t\t\t\t\t\t\t\t\t\t\t\t</p>\n",
       " </figcaption>\n",
       " </figure>\n",
       " </li>]"
      ]
     },
     "execution_count": 23,
     "metadata": {},
     "output_type": "execute_result"
    }
   ],
   "source": [
    "athelte_list=soup.select(\"tr.resultsDetails li\")#通过观察移动鼠标时，\n",
    "                  #在网页中框定的内容范围来推测，提取出哪些标签中的内容。\n",
    "athelte_list[:1]"
   ]
  },
  {
   "cell_type": "code",
   "execution_count": 10,
   "metadata": {},
   "outputs": [
    {
     "data": {
      "text/plain": [
       "<a href=\"/athletes/athlete/46136/wertz-brennan\" title=\"WERTZ, Brennan\">WERTZ, Brennan</a>"
      ]
     },
     "execution_count": 10,
     "metadata": {},
     "output_type": "execute_result"
    }
   ],
   "source": [
    "#找到运动员姓名所在的标签 。原文写得好 ：“通过观察网页html文件查看字段对应标签和标签的层次结构，\n",
    "#我们就可以开始编写代码实现我们的爬虫。”\n",
    "athelte_one=athelte_list[0].select('h4 a')[0]  #\"h4 a\"就是名字所在的标签层次结构\n",
    "athelte_one"
   ]
  },
  {
   "cell_type": "code",
   "execution_count": 14,
   "metadata": {},
   "outputs": [
    {
     "data": {
      "text/plain": [
       "'WERTZ, Brennan'"
      ]
     },
     "execution_count": 14,
     "metadata": {},
     "output_type": "execute_result"
    }
   ],
   "source": [
    "#.text获取运动员的名字。\n",
    "athelte_one_name=athelte_list[0].select('h4 a')[0].text\n",
    "athelte_one_name"
   ]
  },
  {
   "cell_type": "code",
   "execution_count": 19,
   "metadata": {},
   "outputs": [
    {
     "data": {
      "text/plain": [
       "<p class=\"yPadding\">\n",
       "\t\t\t\t\t\t\t\t\t\t\t\t\t\t\t\t\t\t\tPosition: Bow\n",
       "\t\t\t\t\t\t\t\t\t\t\t\t\t\t\t\t\t\t</p>"
      ]
     },
     "execution_count": 19,
     "metadata": {},
     "output_type": "execute_result"
    }
   ],
   "source": [
    "athelte_one_place=athelte_list[0].select('p.yPadding')[0]\n",
    "athelte_one_place"
   ]
  },
  {
   "cell_type": "code",
   "execution_count": 21,
   "metadata": {},
   "outputs": [
    {
     "data": {
      "text/plain": [
       "'\\r\\n\\t\\t\\t\\t\\t\\t\\t\\t\\t\\t\\t\\t\\t\\t\\t\\t\\t\\t\\tPosition: Bow\\r\\n\\t\\t\\t\\t\\t\\t\\t\\t\\t\\t\\t\\t\\t\\t\\t\\t\\t\\t'"
      ]
     },
     "execution_count": 21,
     "metadata": {},
     "output_type": "execute_result"
    }
   ],
   "source": [
    "#打印出text\n",
    "athelte_one_text=athelte_list[0].select('p.yPadding')[0].text\n",
    "athelte_one_text"
   ]
  },
  {
   "cell_type": "code",
   "execution_count": 22,
   "metadata": {},
   "outputs": [
    {
     "data": {
      "text/plain": [
       "'Position: Bow'"
      ]
     },
     "execution_count": 22,
     "metadata": {},
     "output_type": "execute_result"
    }
   ],
   "source": [
    "#去掉position两边的\"\\r\",\"\\t\",得到运动员的为位置\n",
    "athelte_one_PLACE=athelte_list[0].select('p.yPadding')[0].text.strip()\n",
    "athelte_one_PLACE"
   ]
  },
  {
   "cell_type": "code",
   "execution_count": 29,
   "metadata": {},
   "outputs": [
    {
     "data": {
      "text/plain": [
       "'/assets/images/ml/athletes/46136.jpg'"
      ]
     },
     "execution_count": 29,
     "metadata": {},
     "output_type": "execute_result"
    }
   ],
   "source": [
    "athelte_one_img_url=athelte_list[0].select('img')[0][\"src\"]\n",
    "athelte_one_img_url"
   ]
  },
  {
   "cell_type": "code",
   "execution_count": 32,
   "metadata": {},
   "outputs": [
    {
     "data": {
      "text/plain": [
       "'http://www.worldrowing.com/assets/images/ml/athletes/46136.jpg'"
      ]
     },
     "execution_count": 32,
     "metadata": {},
     "output_type": "execute_result"
    }
   ],
   "source": [
    "#获取到每个运动员照片的链接。注意链接由两部分组成，前一部分是\"http://www.worldrowing.com\"，\n",
    "#另一半是爬取到的，两者平到一起即为最终的链接\n",
    "athelte_one_IMG_URL=\"http://www.worldrowing.com\"+athelte_list[0].select('img')[0][\"src\"]\n",
    "athelte_one_IMG_URL"
   ]
  },
  {
   "cell_type": "markdown",
   "metadata": {},
   "source": [
    "## 所以获取网页中的运动员姓名，位置，和照片的连接的代码就很简单了"
   ]
  },
  {
   "cell_type": "code",
   "execution_count": 33,
   "metadata": {},
   "outputs": [
    {
     "name": "stdout",
     "output_type": "stream",
     "text": [
      "WERTZ, Brennan Position: Bow http://www.worldrowing.com/assets/images/ml/athletes/46136.jpg\n",
      "BEST, Justin Position: Seat 2 http://www.worldrowing.com/assets/images/ml/athletes/47042.jpg\n",
      "CARLSON, Christopher Position: Seat 3 http://www.worldrowing.com/assets/images/ml/athletes/49843.jpg\n",
      "LANDBOE, Arne Position: Seat 4 http://www.worldrowing.com/assets/images/ml/athletes/48679.jpg\n",
      "MOLITOR, Madison Position: Seat 5 http://www.worldrowing.com/assets/images/ml/athletes/51534.jpg\n",
      "HALBERT, Samuel Position: Seat 6 http://www.worldrowing.com/assets/images/ml/athletes/51532.jpg\n",
      "GRADY, Michael Position: Seat 7 http://www.worldrowing.com/assets/images/ml/athletes/44646.jpg\n",
      "GAARD, Andrew Position: Stroke http://www.worldrowing.com/assets/images/ml/athletes/46141.jpg\n"
     ]
    }
   ],
   "source": [
    "#获取千把个运动的相关信息\n",
    "for athelte in athelte_list[:8]:\n",
    "    ATHELTE_NAME=athelte.select(\"h4 a\")[0].text\n",
    "    ATHELTE_POSITION=athelte.select(\"p.yPadding\")[0].text.strip()\n",
    "    ATHELTE_IMG_URL=\"http://www.worldrowing.com\"+athelte.select(\"img\")[0][\"src\"]\n",
    "    print(ATHELTE_NAME,ATHELTE_POSITION,ATHELTE_IMG_URL)\n"
   ]
  },
  {
   "cell_type": "code",
   "execution_count": null,
   "metadata": {},
   "outputs": [],
   "source": [
    "#类似的。获取更详细的sex,country,birthday的信息，这些信息在更详细的链接里面。\n",
    "#并把所有获取的信息以元素是字典的大列表，储存在DataFrame中。"
   ]
  },
  {
   "cell_type": "code",
   "execution_count": 52,
   "metadata": {},
   "outputs": [
    {
     "name": "stdout",
     "output_type": "stream",
     "text": [
      "dict_keys(['name', 'position', 'img_url', 'sex', 'country', 'birthday'])\n"
     ]
    }
   ],
   "source": [
    "#完整代码\n",
    "#完整代码\n",
    "import pandas as pd\n",
    "from bs4 import BeautifulSoup as bs\n",
    "import requests\n",
    "\n",
    "response = requests.get('http://www.worldrowing.com/events/2018-world-rowing-under-23-championships/u23-mens-eight/')\n",
    "soup = bs(response.text, 'html.parser')\n",
    "athelte_list=soup.select(\"tr.resultsDetails li\")\n",
    "item_list=[]\n",
    "for athelte in athelte_list:\n",
    "    item={}\n",
    "    item[\"name\"]=athelte.select(\"h4 a\")[0].text\n",
    "    item[\"position\"]=athelte.select(\"p.yPadding\")[0].text.strip()\n",
    "    item[\"img_url\"]=\"http://www.worldrowing.com\"+athelte.select(\"img\")[0][\"src\"]\n",
    "    detail_url=\"http://www.worldrowing.com\"+athelte.select(\"h4 a\")[0][\"href\"]\n",
    "    response=requests.get(detail_url)\n",
    "    soup=bs(response.text,\"html.parser\")\n",
    "    item[\"sex\"]=soup.select(\"div.dd\")[0].text\n",
    "    item[\"country\"]=soup.select(\"h1.athleteInfoTitle span\")[0].text\n",
    "    item[\"birthday\"]=soup.select(\"div.dd\")[1].text #看下面就知道为啥是[1]了\n",
    "    item_list.append(item)\n",
    "    \n",
    "df=pd.DataFrame(item_list,columns=item_list[0].keys())\n",
    "print(item_list[0].keys())\n",
    "df.to_excel(\"athleteINfo.xlsx\")   #还可以这样，有点骚！\n",
    "    \n",
    "#在select里面填上啥，还是不咋明白。 要找啥，就在网页上选中，再审查元素，找到。\n",
    "\n"
   ]
  },
  {
   "cell_type": "code",
   "execution_count": 48,
   "metadata": {},
   "outputs": [
    {
     "data": {
      "text/plain": [
       "[<div class=\"dd\" itemprop=\"gender\">M</div>, <div class=\"dd\">13 May 1997</div>]"
      ]
     },
     "execution_count": 48,
     "metadata": {},
     "output_type": "execute_result"
    }
   ],
   "source": [
    "respones=requests.get(\"http://www.worldrowing.com/athletes/athlete/46136/wertz-brennan\")\n",
    "soup=bs(respones.text,\"html.parser\")\n",
    "sex=soup.select('div.dd')   #是个列表，有两个元素，第一个储存了性别，第二个储存了birthday\n",
    "sex"
   ]
  }
 ],
 "metadata": {
  "kernelspec": {
   "display_name": "Python 3",
   "language": "python",
   "name": "python3"
  },
  "language_info": {
   "codemirror_mode": {
    "name": "ipython",
    "version": 3
   },
   "file_extension": ".py",
   "mimetype": "text/x-python",
   "name": "python",
   "nbconvert_exporter": "python",
   "pygments_lexer": "ipython3",
   "version": "3.6.4"
  }
 },
 "nbformat": 4,
 "nbformat_minor": 2
}
