{
 "cells": [
  {
   "cell_type": "markdown",
   "metadata": {},
   "source": [
    "## 详细内容参见坤哥的简书： https://www.jianshu.com/p/b3eec38dd80d"
   ]
  },
  {
   "cell_type": "code",
   "execution_count": 10,
   "metadata": {},
   "outputs": [
    {
     "name": "stdout",
     "output_type": "stream",
     "text": [
      "dict_keys(['name', 'position', 'img_url', 'Gender', 'Birthdate', 'Height', 'Weight', 'Place of residence', 'Started Rowing in'])\n",
      "dict_keys(['name', 'position', 'img_url', 'Gender', 'Birthdate', 'Height', 'Weight', 'Started Rowing in', 'University', 'Clubs'])\n"
     ]
    }
   ],
   "source": [
    "import pandas as pd\n",
    "from bs4 import BeautifulSoup as bs\n",
    "import requests\n",
    "\n",
    "response = requests.get('http://www.worldrowing.com/events/2018-world-rowing-under-23-championships/u23-mens-eight/')\n",
    "soup = bs(response.text, 'html.parser')\n",
    "athelte_list=soup.select(\"tr.resultsDetails li\")\n",
    "item_list=[]\n",
    "for athelte in athelte_list:\n",
    "    item={}\n",
    "    item[\"name\"]=athelte.select(\"h4 a\")[0].text\n",
    "    item[\"position\"]=athelte.select(\"p.yPadding\")[0].text.strip()\n",
    "    item[\"img_url\"]=\"http://www.worldrowing.com\"+athelte.select(\"img\")[0][\"src\"]\n",
    "    detail_url=\"http://www.worldrowing.com\"+athelte.select(\"h4 a\")[0][\"href\"]\n",
    "    response=requests.get(detail_url)\n",
    "    soup=bs(response.text,\"html.parser\")\n",
    "    info_list=soup.select(\"div.athleteInfoBody li\")  #要找准\n",
    "    for info in info_list:\n",
    "        key=info.select(\"div.dt\")[0].text\n",
    "        value=info.select(\"div.dd\")[0].text\n",
    "        item[key]=value\n",
    "    item_list.append(item)\n",
    "    \n",
    "longest_title=item_list[0].keys()\n",
    "#通过遍历item_list的遍历得到运动员信息最多的那一个元素(每个元素丢都是一个dict)的所有keys()\n",
    "for i in item_list:\n",
    "    if len(i.keys())>len(longest_title): \n",
    "        longest_title=i.keys()\n",
    "        print(longest_title)\n",
    "        \n",
    "df = pd.DataFrame(item_list,columns=longest_title)\n",
    "\n",
    "df.to_excel(\"atheleteInfo_2.xlsx\")  #excel的名字是个字符串。\n",
    "#爬虫的关键是找到你想要爬取的信息 在什么标签内 并且正确的select到这个标签，再提取到你的所需要的信息。\n",
    "#通常构造一个元素是字典的大列表，这样最后可以直接转为一个DataFrame的对象，然后将这个对象to_excel\n",
    "#将从网页爬取的得到的信息持久化到一个excel中了。 nice！！！！\n",
    "\n"
   ]
  }
 ],
 "metadata": {
  "kernelspec": {
   "display_name": "Python 3",
   "language": "python",
   "name": "python3"
  },
  "language_info": {
   "codemirror_mode": {
    "name": "ipython",
    "version": 3
   },
   "file_extension": ".py",
   "mimetype": "text/x-python",
   "name": "python",
   "nbconvert_exporter": "python",
   "pygments_lexer": "ipython3",
   "version": "3.6.4"
  }
 },
 "nbformat": 4,
 "nbformat_minor": 2
}
