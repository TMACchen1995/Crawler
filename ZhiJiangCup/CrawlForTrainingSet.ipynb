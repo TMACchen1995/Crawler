{
 "cells": [
  {
   "cell_type": "code",
   "execution_count": 1,
   "metadata": {
    "collapsed": true
   },
   "outputs": [],
   "source": [
    "import os,re, requests\n",
    "from bs4 import BeautifulSoup as bs\n",
    "import pandas as pd"
   ]
  },
  {
   "cell_type": "code",
   "execution_count": 2,
   "metadata": {
    "collapsed": true
   },
   "outputs": [],
   "source": [
    "root = 'https://www.shutterstock.com/search/'\n",
    "filename = './coco.names'"
   ]
  },
  {
   "cell_type": "code",
   "execution_count": 3,
   "metadata": {
    "collapsed": true
   },
   "outputs": [],
   "source": [
    "def get_pathes(root, file_name):\n",
    "    keywords = [i.strip() for i in open(filename)]\n",
    "    pathes = [os.path.join(root,i) for i in keywords]\n",
    "    return pathes"
   ]
  },
  {
   "cell_type": "code",
   "execution_count": 4,
   "metadata": {
    "collapsed": true
   },
   "outputs": [],
   "source": [
    "pathes = get_pathes(root, filename)"
   ]
  },
  {
   "cell_type": "code",
   "execution_count": 8,
   "metadata": {
    "collapsed": true
   },
   "outputs": [],
   "source": [
    "\n",
    "def crawl(pathes):\n",
    "    zhijiangcup_trainingset = {}\n",
    "    for path in pathes:  \n",
    "        response = requests.get(path, headers={'User-Agent': 'Chrome/74.0.3724.8'})   \n",
    "        soup = bs(response.text, 'html.parser')\n",
    "\n",
    "        content = soup.select('div.z_g_b')        \n",
    "        for element in content:\n",
    "            pics_link = element.select('img')[0]['src']\n",
    "            describle = element.select('img')[0]['alt']\n",
    "            zhijiangcup_trainingset[pics_link] = describle\n",
    "\n",
    "    return zhijiangcup_trainingset"
   ]
  },
  {
   "cell_type": "code",
   "execution_count": 9,
   "metadata": {},
   "outputs": [],
   "source": [
    "zhijiangcup_trainingset = crawl(pathes)\n",
    "\n",
    "# zhijiangcup_trainingset = json.dumps(zhijiangcup_trainingset)    \n",
    "\n",
    "# with open('zhijiangcup_trainingset.json', 'w') as f:          \n",
    "#     f.write(zhijiangcup_trainingset) "
   ]
  },
  {
   "cell_type": "code",
   "execution_count": 10,
   "metadata": {},
   "outputs": [
    {
     "name": "stdout",
     "output_type": "stream",
     "text": [
      "8229\n"
     ]
    }
   ],
   "source": [
    "print(len(zhijiangcup_trainingset))"
   ]
  }
 ],
 "metadata": {
  "kernelspec": {
   "display_name": "Python 3",
   "language": "python",
   "name": "python3"
  },
  "language_info": {
   "codemirror_mode": {
    "name": "ipython",
    "version": 3
   },
   "file_extension": ".py",
   "mimetype": "text/x-python",
   "name": "python",
   "nbconvert_exporter": "python",
   "pygments_lexer": "ipython3",
   "version": "3.6.0"
  }
 },
 "nbformat": 4,
 "nbformat_minor": 2
}
